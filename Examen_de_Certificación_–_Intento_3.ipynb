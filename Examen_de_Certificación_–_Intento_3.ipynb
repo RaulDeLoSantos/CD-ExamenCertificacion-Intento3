{
  "nbformat": 4,
  "nbformat_minor": 0,
  "metadata": {
    "colab": {
      "provenance": []
    },
    "kernelspec": {
      "name": "python3",
      "display_name": "Python 3"
    },
    "language_info": {
      "name": "python"
    }
  },
  "cells": [
    {
      "cell_type": "markdown",
      "source": [
        "Examen de Certificación – Intento 3\n",
        "\n",
        "Fundamentos de Data Science\n",
        "Analizando la Satisfacción de Clientes en la Industria Hotelera\n",
        "\n",
        "Requisitos:\n",
        "\n",
        "Tu tarea es limpiar y explorar un dataset que contiene información sobre la satisfacción de los clientes en la industria hotelera. Este análisis es crucial para los ejecutivos de la empresa que buscan entender mejor las opiniones y experiencias de sus clientes para mejorar los servicios ofrecidos.\n",
        "\n",
        "El dataset puede ser encontrado aquí.\n",
        "https://www.kaggle.com/datasets/jessemostipak/hotel-booking-demand\n",
        "\n",
        "Limpieza de datos con Python:\n",
        "Detección y eliminación de valores duplicados: Asegúrate de que cada registro en el dataset sea único.\n"
      ],
      "metadata": {
        "id": "V29NZWBTaP2o"
      }
    },
    {
      "cell_type": "code",
      "execution_count": 2,
      "metadata": {
        "colab": {
          "base_uri": "https://localhost:8080/",
          "height": 997
        },
        "id": "E0H28E_PaPCh",
        "outputId": "0cc562dd-f5bb-4bd6-d2ff-13ad4e4a01db"
      },
      "outputs": [
        {
          "output_type": "stream",
          "name": "stdout",
          "text": [
            "<class 'pandas.core.frame.DataFrame'>\n",
            "RangeIndex: 119390 entries, 0 to 119389\n",
            "Data columns (total 32 columns):\n",
            " #   Column                          Non-Null Count   Dtype  \n",
            "---  ------                          --------------   -----  \n",
            " 0   hotel                           119390 non-null  object \n",
            " 1   is_canceled                     119390 non-null  int64  \n",
            " 2   lead_time                       119390 non-null  int64  \n",
            " 3   arrival_date_year               119390 non-null  int64  \n",
            " 4   arrival_date_month              119390 non-null  object \n",
            " 5   arrival_date_week_number        119390 non-null  int64  \n",
            " 6   arrival_date_day_of_month       119390 non-null  int64  \n",
            " 7   stays_in_weekend_nights         119390 non-null  int64  \n",
            " 8   stays_in_week_nights            119390 non-null  int64  \n",
            " 9   adults                          119390 non-null  int64  \n",
            " 10  children                        119386 non-null  float64\n",
            " 11  babies                          119390 non-null  int64  \n",
            " 12  meal                            119390 non-null  object \n",
            " 13  country                         118902 non-null  object \n",
            " 14  market_segment                  119390 non-null  object \n",
            " 15  distribution_channel            119390 non-null  object \n",
            " 16  is_repeated_guest               119390 non-null  int64  \n",
            " 17  previous_cancellations          119390 non-null  int64  \n",
            " 18  previous_bookings_not_canceled  119390 non-null  int64  \n",
            " 19  reserved_room_type              119390 non-null  object \n",
            " 20  assigned_room_type              119390 non-null  object \n",
            " 21  booking_changes                 119390 non-null  int64  \n",
            " 22  deposit_type                    119390 non-null  object \n",
            " 23  agent                           103050 non-null  float64\n",
            " 24  company                         6797 non-null    float64\n",
            " 25  days_in_waiting_list            119390 non-null  int64  \n",
            " 26  customer_type                   119390 non-null  object \n",
            " 27  adr                             119390 non-null  float64\n",
            " 28  required_car_parking_spaces     119390 non-null  int64  \n",
            " 29  total_of_special_requests       119390 non-null  int64  \n",
            " 30  reservation_status              119390 non-null  object \n",
            " 31  reservation_status_date         119390 non-null  object \n",
            "dtypes: float64(4), int64(16), object(12)\n",
            "memory usage: 29.1+ MB\n"
          ]
        },
        {
          "output_type": "execute_result",
          "data": {
            "text/plain": [
              "         is_canceled      lead_time  arrival_date_year  \\\n",
              "count  119390.000000  119390.000000      119390.000000   \n",
              "mean        0.370416     104.011416        2016.156554   \n",
              "std         0.482918     106.863097           0.707476   \n",
              "min         0.000000       0.000000        2015.000000   \n",
              "25%         0.000000      18.000000        2016.000000   \n",
              "50%         0.000000      69.000000        2016.000000   \n",
              "75%         1.000000     160.000000        2017.000000   \n",
              "max         1.000000     737.000000        2017.000000   \n",
              "\n",
              "       arrival_date_week_number  arrival_date_day_of_month  \\\n",
              "count             119390.000000              119390.000000   \n",
              "mean                  27.165173                  15.798241   \n",
              "std                   13.605138                   8.780829   \n",
              "min                    1.000000                   1.000000   \n",
              "25%                   16.000000                   8.000000   \n",
              "50%                   28.000000                  16.000000   \n",
              "75%                   38.000000                  23.000000   \n",
              "max                   53.000000                  31.000000   \n",
              "\n",
              "       stays_in_weekend_nights  stays_in_week_nights         adults  \\\n",
              "count            119390.000000         119390.000000  119390.000000   \n",
              "mean                  0.927599              2.500302       1.856403   \n",
              "std                   0.998613              1.908286       0.579261   \n",
              "min                   0.000000              0.000000       0.000000   \n",
              "25%                   0.000000              1.000000       2.000000   \n",
              "50%                   1.000000              2.000000       2.000000   \n",
              "75%                   2.000000              3.000000       2.000000   \n",
              "max                  19.000000             50.000000      55.000000   \n",
              "\n",
              "            children         babies  is_repeated_guest  \\\n",
              "count  119386.000000  119390.000000      119390.000000   \n",
              "mean        0.103890       0.007949           0.031912   \n",
              "std         0.398561       0.097436           0.175767   \n",
              "min         0.000000       0.000000           0.000000   \n",
              "25%         0.000000       0.000000           0.000000   \n",
              "50%         0.000000       0.000000           0.000000   \n",
              "75%         0.000000       0.000000           0.000000   \n",
              "max        10.000000      10.000000           1.000000   \n",
              "\n",
              "       previous_cancellations  previous_bookings_not_canceled  \\\n",
              "count           119390.000000                   119390.000000   \n",
              "mean                 0.087118                        0.137097   \n",
              "std                  0.844336                        1.497437   \n",
              "min                  0.000000                        0.000000   \n",
              "25%                  0.000000                        0.000000   \n",
              "50%                  0.000000                        0.000000   \n",
              "75%                  0.000000                        0.000000   \n",
              "max                 26.000000                       72.000000   \n",
              "\n",
              "       booking_changes          agent      company  days_in_waiting_list  \\\n",
              "count    119390.000000  103050.000000  6797.000000         119390.000000   \n",
              "mean          0.221124      86.693382   189.266735              2.321149   \n",
              "std           0.652306     110.774548   131.655015             17.594721   \n",
              "min           0.000000       1.000000     6.000000              0.000000   \n",
              "25%           0.000000       9.000000    62.000000              0.000000   \n",
              "50%           0.000000      14.000000   179.000000              0.000000   \n",
              "75%           0.000000     229.000000   270.000000              0.000000   \n",
              "max          21.000000     535.000000   543.000000            391.000000   \n",
              "\n",
              "                 adr  required_car_parking_spaces  total_of_special_requests  \n",
              "count  119390.000000                119390.000000              119390.000000  \n",
              "mean      101.831122                     0.062518                   0.571363  \n",
              "std        50.535790                     0.245291                   0.792798  \n",
              "min        -6.380000                     0.000000                   0.000000  \n",
              "25%        69.290000                     0.000000                   0.000000  \n",
              "50%        94.575000                     0.000000                   0.000000  \n",
              "75%       126.000000                     0.000000                   1.000000  \n",
              "max      5400.000000                     8.000000                   5.000000  "
            ],
            "text/html": [
              "\n",
              "  <div id=\"df-f43ba1db-fa7e-4668-8641-20a2d99985e6\" class=\"colab-df-container\">\n",
              "    <div>\n",
              "<style scoped>\n",
              "    .dataframe tbody tr th:only-of-type {\n",
              "        vertical-align: middle;\n",
              "    }\n",
              "\n",
              "    .dataframe tbody tr th {\n",
              "        vertical-align: top;\n",
              "    }\n",
              "\n",
              "    .dataframe thead th {\n",
              "        text-align: right;\n",
              "    }\n",
              "</style>\n",
              "<table border=\"1\" class=\"dataframe\">\n",
              "  <thead>\n",
              "    <tr style=\"text-align: right;\">\n",
              "      <th></th>\n",
              "      <th>is_canceled</th>\n",
              "      <th>lead_time</th>\n",
              "      <th>arrival_date_year</th>\n",
              "      <th>arrival_date_week_number</th>\n",
              "      <th>arrival_date_day_of_month</th>\n",
              "      <th>stays_in_weekend_nights</th>\n",
              "      <th>stays_in_week_nights</th>\n",
              "      <th>adults</th>\n",
              "      <th>children</th>\n",
              "      <th>babies</th>\n",
              "      <th>is_repeated_guest</th>\n",
              "      <th>previous_cancellations</th>\n",
              "      <th>previous_bookings_not_canceled</th>\n",
              "      <th>booking_changes</th>\n",
              "      <th>agent</th>\n",
              "      <th>company</th>\n",
              "      <th>days_in_waiting_list</th>\n",
              "      <th>adr</th>\n",
              "      <th>required_car_parking_spaces</th>\n",
              "      <th>total_of_special_requests</th>\n",
              "    </tr>\n",
              "  </thead>\n",
              "  <tbody>\n",
              "    <tr>\n",
              "      <th>count</th>\n",
              "      <td>119390.000000</td>\n",
              "      <td>119390.000000</td>\n",
              "      <td>119390.000000</td>\n",
              "      <td>119390.000000</td>\n",
              "      <td>119390.000000</td>\n",
              "      <td>119390.000000</td>\n",
              "      <td>119390.000000</td>\n",
              "      <td>119390.000000</td>\n",
              "      <td>119386.000000</td>\n",
              "      <td>119390.000000</td>\n",
              "      <td>119390.000000</td>\n",
              "      <td>119390.000000</td>\n",
              "      <td>119390.000000</td>\n",
              "      <td>119390.000000</td>\n",
              "      <td>103050.000000</td>\n",
              "      <td>6797.000000</td>\n",
              "      <td>119390.000000</td>\n",
              "      <td>119390.000000</td>\n",
              "      <td>119390.000000</td>\n",
              "      <td>119390.000000</td>\n",
              "    </tr>\n",
              "    <tr>\n",
              "      <th>mean</th>\n",
              "      <td>0.370416</td>\n",
              "      <td>104.011416</td>\n",
              "      <td>2016.156554</td>\n",
              "      <td>27.165173</td>\n",
              "      <td>15.798241</td>\n",
              "      <td>0.927599</td>\n",
              "      <td>2.500302</td>\n",
              "      <td>1.856403</td>\n",
              "      <td>0.103890</td>\n",
              "      <td>0.007949</td>\n",
              "      <td>0.031912</td>\n",
              "      <td>0.087118</td>\n",
              "      <td>0.137097</td>\n",
              "      <td>0.221124</td>\n",
              "      <td>86.693382</td>\n",
              "      <td>189.266735</td>\n",
              "      <td>2.321149</td>\n",
              "      <td>101.831122</td>\n",
              "      <td>0.062518</td>\n",
              "      <td>0.571363</td>\n",
              "    </tr>\n",
              "    <tr>\n",
              "      <th>std</th>\n",
              "      <td>0.482918</td>\n",
              "      <td>106.863097</td>\n",
              "      <td>0.707476</td>\n",
              "      <td>13.605138</td>\n",
              "      <td>8.780829</td>\n",
              "      <td>0.998613</td>\n",
              "      <td>1.908286</td>\n",
              "      <td>0.579261</td>\n",
              "      <td>0.398561</td>\n",
              "      <td>0.097436</td>\n",
              "      <td>0.175767</td>\n",
              "      <td>0.844336</td>\n",
              "      <td>1.497437</td>\n",
              "      <td>0.652306</td>\n",
              "      <td>110.774548</td>\n",
              "      <td>131.655015</td>\n",
              "      <td>17.594721</td>\n",
              "      <td>50.535790</td>\n",
              "      <td>0.245291</td>\n",
              "      <td>0.792798</td>\n",
              "    </tr>\n",
              "    <tr>\n",
              "      <th>min</th>\n",
              "      <td>0.000000</td>\n",
              "      <td>0.000000</td>\n",
              "      <td>2015.000000</td>\n",
              "      <td>1.000000</td>\n",
              "      <td>1.000000</td>\n",
              "      <td>0.000000</td>\n",
              "      <td>0.000000</td>\n",
              "      <td>0.000000</td>\n",
              "      <td>0.000000</td>\n",
              "      <td>0.000000</td>\n",
              "      <td>0.000000</td>\n",
              "      <td>0.000000</td>\n",
              "      <td>0.000000</td>\n",
              "      <td>0.000000</td>\n",
              "      <td>1.000000</td>\n",
              "      <td>6.000000</td>\n",
              "      <td>0.000000</td>\n",
              "      <td>-6.380000</td>\n",
              "      <td>0.000000</td>\n",
              "      <td>0.000000</td>\n",
              "    </tr>\n",
              "    <tr>\n",
              "      <th>25%</th>\n",
              "      <td>0.000000</td>\n",
              "      <td>18.000000</td>\n",
              "      <td>2016.000000</td>\n",
              "      <td>16.000000</td>\n",
              "      <td>8.000000</td>\n",
              "      <td>0.000000</td>\n",
              "      <td>1.000000</td>\n",
              "      <td>2.000000</td>\n",
              "      <td>0.000000</td>\n",
              "      <td>0.000000</td>\n",
              "      <td>0.000000</td>\n",
              "      <td>0.000000</td>\n",
              "      <td>0.000000</td>\n",
              "      <td>0.000000</td>\n",
              "      <td>9.000000</td>\n",
              "      <td>62.000000</td>\n",
              "      <td>0.000000</td>\n",
              "      <td>69.290000</td>\n",
              "      <td>0.000000</td>\n",
              "      <td>0.000000</td>\n",
              "    </tr>\n",
              "    <tr>\n",
              "      <th>50%</th>\n",
              "      <td>0.000000</td>\n",
              "      <td>69.000000</td>\n",
              "      <td>2016.000000</td>\n",
              "      <td>28.000000</td>\n",
              "      <td>16.000000</td>\n",
              "      <td>1.000000</td>\n",
              "      <td>2.000000</td>\n",
              "      <td>2.000000</td>\n",
              "      <td>0.000000</td>\n",
              "      <td>0.000000</td>\n",
              "      <td>0.000000</td>\n",
              "      <td>0.000000</td>\n",
              "      <td>0.000000</td>\n",
              "      <td>0.000000</td>\n",
              "      <td>14.000000</td>\n",
              "      <td>179.000000</td>\n",
              "      <td>0.000000</td>\n",
              "      <td>94.575000</td>\n",
              "      <td>0.000000</td>\n",
              "      <td>0.000000</td>\n",
              "    </tr>\n",
              "    <tr>\n",
              "      <th>75%</th>\n",
              "      <td>1.000000</td>\n",
              "      <td>160.000000</td>\n",
              "      <td>2017.000000</td>\n",
              "      <td>38.000000</td>\n",
              "      <td>23.000000</td>\n",
              "      <td>2.000000</td>\n",
              "      <td>3.000000</td>\n",
              "      <td>2.000000</td>\n",
              "      <td>0.000000</td>\n",
              "      <td>0.000000</td>\n",
              "      <td>0.000000</td>\n",
              "      <td>0.000000</td>\n",
              "      <td>0.000000</td>\n",
              "      <td>0.000000</td>\n",
              "      <td>229.000000</td>\n",
              "      <td>270.000000</td>\n",
              "      <td>0.000000</td>\n",
              "      <td>126.000000</td>\n",
              "      <td>0.000000</td>\n",
              "      <td>1.000000</td>\n",
              "    </tr>\n",
              "    <tr>\n",
              "      <th>max</th>\n",
              "      <td>1.000000</td>\n",
              "      <td>737.000000</td>\n",
              "      <td>2017.000000</td>\n",
              "      <td>53.000000</td>\n",
              "      <td>31.000000</td>\n",
              "      <td>19.000000</td>\n",
              "      <td>50.000000</td>\n",
              "      <td>55.000000</td>\n",
              "      <td>10.000000</td>\n",
              "      <td>10.000000</td>\n",
              "      <td>1.000000</td>\n",
              "      <td>26.000000</td>\n",
              "      <td>72.000000</td>\n",
              "      <td>21.000000</td>\n",
              "      <td>535.000000</td>\n",
              "      <td>543.000000</td>\n",
              "      <td>391.000000</td>\n",
              "      <td>5400.000000</td>\n",
              "      <td>8.000000</td>\n",
              "      <td>5.000000</td>\n",
              "    </tr>\n",
              "  </tbody>\n",
              "</table>\n",
              "</div>\n",
              "    <div class=\"colab-df-buttons\">\n",
              "\n",
              "  <div class=\"colab-df-container\">\n",
              "    <button class=\"colab-df-convert\" onclick=\"convertToInteractive('df-f43ba1db-fa7e-4668-8641-20a2d99985e6')\"\n",
              "            title=\"Convert this dataframe to an interactive table.\"\n",
              "            style=\"display:none;\">\n",
              "\n",
              "  <svg xmlns=\"http://www.w3.org/2000/svg\" height=\"24px\" viewBox=\"0 -960 960 960\">\n",
              "    <path d=\"M120-120v-720h720v720H120Zm60-500h600v-160H180v160Zm220 220h160v-160H400v160Zm0 220h160v-160H400v160ZM180-400h160v-160H180v160Zm440 0h160v-160H620v160ZM180-180h160v-160H180v160Zm440 0h160v-160H620v160Z\"/>\n",
              "  </svg>\n",
              "    </button>\n",
              "\n",
              "  <style>\n",
              "    .colab-df-container {\n",
              "      display:flex;\n",
              "      gap: 12px;\n",
              "    }\n",
              "\n",
              "    .colab-df-convert {\n",
              "      background-color: #E8F0FE;\n",
              "      border: none;\n",
              "      border-radius: 50%;\n",
              "      cursor: pointer;\n",
              "      display: none;\n",
              "      fill: #1967D2;\n",
              "      height: 32px;\n",
              "      padding: 0 0 0 0;\n",
              "      width: 32px;\n",
              "    }\n",
              "\n",
              "    .colab-df-convert:hover {\n",
              "      background-color: #E2EBFA;\n",
              "      box-shadow: 0px 1px 2px rgba(60, 64, 67, 0.3), 0px 1px 3px 1px rgba(60, 64, 67, 0.15);\n",
              "      fill: #174EA6;\n",
              "    }\n",
              "\n",
              "    .colab-df-buttons div {\n",
              "      margin-bottom: 4px;\n",
              "    }\n",
              "\n",
              "    [theme=dark] .colab-df-convert {\n",
              "      background-color: #3B4455;\n",
              "      fill: #D2E3FC;\n",
              "    }\n",
              "\n",
              "    [theme=dark] .colab-df-convert:hover {\n",
              "      background-color: #434B5C;\n",
              "      box-shadow: 0px 1px 3px 1px rgba(0, 0, 0, 0.15);\n",
              "      filter: drop-shadow(0px 1px 2px rgba(0, 0, 0, 0.3));\n",
              "      fill: #FFFFFF;\n",
              "    }\n",
              "  </style>\n",
              "\n",
              "    <script>\n",
              "      const buttonEl =\n",
              "        document.querySelector('#df-f43ba1db-fa7e-4668-8641-20a2d99985e6 button.colab-df-convert');\n",
              "      buttonEl.style.display =\n",
              "        google.colab.kernel.accessAllowed ? 'block' : 'none';\n",
              "\n",
              "      async function convertToInteractive(key) {\n",
              "        const element = document.querySelector('#df-f43ba1db-fa7e-4668-8641-20a2d99985e6');\n",
              "        const dataTable =\n",
              "          await google.colab.kernel.invokeFunction('convertToInteractive',\n",
              "                                                    [key], {});\n",
              "        if (!dataTable) return;\n",
              "\n",
              "        const docLinkHtml = 'Like what you see? Visit the ' +\n",
              "          '<a target=\"_blank\" href=https://colab.research.google.com/notebooks/data_table.ipynb>data table notebook</a>'\n",
              "          + ' to learn more about interactive tables.';\n",
              "        element.innerHTML = '';\n",
              "        dataTable['output_type'] = 'display_data';\n",
              "        await google.colab.output.renderOutput(dataTable, element);\n",
              "        const docLink = document.createElement('div');\n",
              "        docLink.innerHTML = docLinkHtml;\n",
              "        element.appendChild(docLink);\n",
              "      }\n",
              "    </script>\n",
              "  </div>\n",
              "\n",
              "\n",
              "<div id=\"df-b8065b08-7c1b-4e76-aca7-619e94b4a023\">\n",
              "  <button class=\"colab-df-quickchart\" onclick=\"quickchart('df-b8065b08-7c1b-4e76-aca7-619e94b4a023')\"\n",
              "            title=\"Suggest charts\"\n",
              "            style=\"display:none;\">\n",
              "\n",
              "<svg xmlns=\"http://www.w3.org/2000/svg\" height=\"24px\"viewBox=\"0 0 24 24\"\n",
              "     width=\"24px\">\n",
              "    <g>\n",
              "        <path d=\"M19 3H5c-1.1 0-2 .9-2 2v14c0 1.1.9 2 2 2h14c1.1 0 2-.9 2-2V5c0-1.1-.9-2-2-2zM9 17H7v-7h2v7zm4 0h-2V7h2v10zm4 0h-2v-4h2v4z\"/>\n",
              "    </g>\n",
              "</svg>\n",
              "  </button>\n",
              "\n",
              "<style>\n",
              "  .colab-df-quickchart {\n",
              "      --bg-color: #E8F0FE;\n",
              "      --fill-color: #1967D2;\n",
              "      --hover-bg-color: #E2EBFA;\n",
              "      --hover-fill-color: #174EA6;\n",
              "      --disabled-fill-color: #AAA;\n",
              "      --disabled-bg-color: #DDD;\n",
              "  }\n",
              "\n",
              "  [theme=dark] .colab-df-quickchart {\n",
              "      --bg-color: #3B4455;\n",
              "      --fill-color: #D2E3FC;\n",
              "      --hover-bg-color: #434B5C;\n",
              "      --hover-fill-color: #FFFFFF;\n",
              "      --disabled-bg-color: #3B4455;\n",
              "      --disabled-fill-color: #666;\n",
              "  }\n",
              "\n",
              "  .colab-df-quickchart {\n",
              "    background-color: var(--bg-color);\n",
              "    border: none;\n",
              "    border-radius: 50%;\n",
              "    cursor: pointer;\n",
              "    display: none;\n",
              "    fill: var(--fill-color);\n",
              "    height: 32px;\n",
              "    padding: 0;\n",
              "    width: 32px;\n",
              "  }\n",
              "\n",
              "  .colab-df-quickchart:hover {\n",
              "    background-color: var(--hover-bg-color);\n",
              "    box-shadow: 0 1px 2px rgba(60, 64, 67, 0.3), 0 1px 3px 1px rgba(60, 64, 67, 0.15);\n",
              "    fill: var(--button-hover-fill-color);\n",
              "  }\n",
              "\n",
              "  .colab-df-quickchart-complete:disabled,\n",
              "  .colab-df-quickchart-complete:disabled:hover {\n",
              "    background-color: var(--disabled-bg-color);\n",
              "    fill: var(--disabled-fill-color);\n",
              "    box-shadow: none;\n",
              "  }\n",
              "\n",
              "  .colab-df-spinner {\n",
              "    border: 2px solid var(--fill-color);\n",
              "    border-color: transparent;\n",
              "    border-bottom-color: var(--fill-color);\n",
              "    animation:\n",
              "      spin 1s steps(1) infinite;\n",
              "  }\n",
              "\n",
              "  @keyframes spin {\n",
              "    0% {\n",
              "      border-color: transparent;\n",
              "      border-bottom-color: var(--fill-color);\n",
              "      border-left-color: var(--fill-color);\n",
              "    }\n",
              "    20% {\n",
              "      border-color: transparent;\n",
              "      border-left-color: var(--fill-color);\n",
              "      border-top-color: var(--fill-color);\n",
              "    }\n",
              "    30% {\n",
              "      border-color: transparent;\n",
              "      border-left-color: var(--fill-color);\n",
              "      border-top-color: var(--fill-color);\n",
              "      border-right-color: var(--fill-color);\n",
              "    }\n",
              "    40% {\n",
              "      border-color: transparent;\n",
              "      border-right-color: var(--fill-color);\n",
              "      border-top-color: var(--fill-color);\n",
              "    }\n",
              "    60% {\n",
              "      border-color: transparent;\n",
              "      border-right-color: var(--fill-color);\n",
              "    }\n",
              "    80% {\n",
              "      border-color: transparent;\n",
              "      border-right-color: var(--fill-color);\n",
              "      border-bottom-color: var(--fill-color);\n",
              "    }\n",
              "    90% {\n",
              "      border-color: transparent;\n",
              "      border-bottom-color: var(--fill-color);\n",
              "    }\n",
              "  }\n",
              "</style>\n",
              "\n",
              "  <script>\n",
              "    async function quickchart(key) {\n",
              "      const quickchartButtonEl =\n",
              "        document.querySelector('#' + key + ' button');\n",
              "      quickchartButtonEl.disabled = true;  // To prevent multiple clicks.\n",
              "      quickchartButtonEl.classList.add('colab-df-spinner');\n",
              "      try {\n",
              "        const charts = await google.colab.kernel.invokeFunction(\n",
              "            'suggestCharts', [key], {});\n",
              "      } catch (error) {\n",
              "        console.error('Error during call to suggestCharts:', error);\n",
              "      }\n",
              "      quickchartButtonEl.classList.remove('colab-df-spinner');\n",
              "      quickchartButtonEl.classList.add('colab-df-quickchart-complete');\n",
              "    }\n",
              "    (() => {\n",
              "      let quickchartButtonEl =\n",
              "        document.querySelector('#df-b8065b08-7c1b-4e76-aca7-619e94b4a023 button');\n",
              "      quickchartButtonEl.style.display =\n",
              "        google.colab.kernel.accessAllowed ? 'block' : 'none';\n",
              "    })();\n",
              "  </script>\n",
              "</div>\n",
              "\n",
              "    </div>\n",
              "  </div>\n"
            ],
            "application/vnd.google.colaboratory.intrinsic+json": {
              "type": "dataframe",
              "summary": "{\n  \"name\": \"data\",\n  \"rows\": 8,\n  \"fields\": [\n    {\n      \"column\": \"is_canceled\",\n      \"properties\": {\n        \"dtype\": \"number\",\n        \"std\": 42210.59518981826,\n        \"min\": 0.0,\n        \"max\": 119390.0,\n        \"num_unique_values\": 5,\n        \"samples\": [\n          0.37041628277075134,\n          1.0,\n          0.48291822659316763\n        ],\n        \"semantic_type\": \"\",\n        \"description\": \"\"\n      }\n    },\n    {\n      \"column\": \"lead_time\",\n      \"properties\": {\n        \"dtype\": \"number\",\n        \"std\": 42151.05353185858,\n        \"min\": 0.0,\n        \"max\": 119390.0,\n        \"num_unique_values\": 8,\n        \"samples\": [\n          104.01141636652986,\n          69.0,\n          119390.0\n        ],\n        \"semantic_type\": \"\",\n        \"description\": \"\"\n      }\n    },\n    {\n      \"column\": \"arrival_date_year\",\n      \"properties\": {\n        \"dtype\": \"number\",\n        \"std\": 41605.6829984143,\n        \"min\": 0.7074759445202401,\n        \"max\": 119390.0,\n        \"num_unique_values\": 6,\n        \"samples\": [\n          119390.0,\n          2016.156554150264,\n          2017.0\n        ],\n        \"semantic_type\": \"\",\n        \"description\": \"\"\n      }\n    },\n    {\n      \"column\": \"arrival_date_week_number\",\n      \"properties\": {\n        \"dtype\": \"number\",\n        \"std\": 42201.81402111843,\n        \"min\": 1.0,\n        \"max\": 119390.0,\n        \"num_unique_values\": 8,\n        \"samples\": [\n          27.16517296255968,\n          28.0,\n          119390.0\n        ],\n        \"semantic_type\": \"\",\n        \"description\": \"\"\n      }\n    },\n    {\n      \"column\": \"arrival_date_day_of_month\",\n      \"properties\": {\n        \"dtype\": \"number\",\n        \"std\": 42205.50879379506,\n        \"min\": 1.0,\n        \"max\": 119390.0,\n        \"num_unique_values\": 8,\n        \"samples\": [\n          15.798241058715135,\n          16.0,\n          119390.0\n        ],\n        \"semantic_type\": \"\",\n        \"description\": \"\"\n      }\n    },\n    {\n      \"column\": \"stays_in_weekend_nights\",\n      \"properties\": {\n        \"dtype\": \"number\",\n        \"std\": 42209.53133083881,\n        \"min\": 0.0,\n        \"max\": 119390.0,\n        \"num_unique_values\": 7,\n        \"samples\": [\n          119390.0,\n          0.9275986263506156,\n          2.0\n        ],\n        \"semantic_type\": \"\",\n        \"description\": \"\"\n      }\n    },\n    {\n      \"column\": \"stays_in_week_nights\",\n      \"properties\": {\n        \"dtype\": \"number\",\n        \"std\": 42207.69159751826,\n        \"min\": 0.0,\n        \"max\": 119390.0,\n        \"num_unique_values\": 8,\n        \"samples\": [\n          2.500301532791691,\n          2.0,\n          119390.0\n        ],\n        \"semantic_type\": \"\",\n        \"description\": \"\"\n      }\n    },\n    {\n      \"column\": \"adults\",\n      \"properties\": {\n        \"dtype\": \"number\",\n        \"std\": 42207.539491149604,\n        \"min\": 0.0,\n        \"max\": 119390.0,\n        \"num_unique_values\": 6,\n        \"samples\": [\n          119390.0,\n          1.8564033838679956,\n          55.0\n        ],\n        \"semantic_type\": \"\",\n        \"description\": \"\"\n      }\n    },\n    {\n      \"column\": \"children\",\n      \"properties\": {\n        \"dtype\": \"number\",\n        \"std\": 42208.79477831908,\n        \"min\": 0.0,\n        \"max\": 119386.0,\n        \"num_unique_values\": 5,\n        \"samples\": [\n          0.10388990333874994,\n          10.0,\n          0.398561444786706\n        ],\n        \"semantic_type\": \"\",\n        \"description\": \"\"\n      }\n    },\n    {\n      \"column\": \"babies\",\n      \"properties\": {\n        \"dtype\": \"number\",\n        \"std\": 42210.22904846642,\n        \"min\": 0.0,\n        \"max\": 119390.0,\n        \"num_unique_values\": 5,\n        \"samples\": [\n          0.007948739425412514,\n          10.0,\n          0.09743619130130332\n        ],\n        \"semantic_type\": \"\",\n        \"description\": \"\"\n      }\n    },\n    {\n      \"column\": \"is_repeated_guest\",\n      \"properties\": {\n        \"dtype\": \"number\",\n        \"std\": 42210.678307305345,\n        \"min\": 0.0,\n        \"max\": 119390.0,\n        \"num_unique_values\": 5,\n        \"samples\": [\n          0.03191222045397437,\n          1.0,\n          0.17576714541079036\n        ],\n        \"semantic_type\": \"\",\n        \"description\": \"\"\n      }\n    },\n    {\n      \"column\": \"previous_cancellations\",\n      \"properties\": {\n        \"dtype\": \"number\",\n        \"std\": 42209.38002891464,\n        \"min\": 0.0,\n        \"max\": 119390.0,\n        \"num_unique_values\": 5,\n        \"samples\": [\n          0.08711784906608594,\n          26.0,\n          0.8443363841518928\n        ],\n        \"semantic_type\": \"\",\n        \"description\": \"\"\n      }\n    },\n    {\n      \"column\": \"previous_bookings_not_canceled\",\n      \"properties\": {\n        \"dtype\": \"number\",\n        \"std\": 42207.02766341039,\n        \"min\": 0.0,\n        \"max\": 119390.0,\n        \"num_unique_values\": 5,\n        \"samples\": [\n          0.13709690928888515,\n          72.0,\n          1.4974368477089461\n        ],\n        \"semantic_type\": \"\",\n        \"description\": \"\"\n      }\n    },\n    {\n      \"column\": \"booking_changes\",\n      \"properties\": {\n        \"dtype\": \"number\",\n        \"std\": 42209.63515931599,\n        \"min\": 0.0,\n        \"max\": 119390.0,\n        \"num_unique_values\": 5,\n        \"samples\": [\n          0.22112404724013737,\n          21.0,\n          0.6523055726747069\n        ],\n        \"semantic_type\": \"\",\n        \"description\": \"\"\n      }\n    },\n    {\n      \"column\": \"agent\",\n      \"properties\": {\n        \"dtype\": \"number\",\n        \"std\": 36384.335144457036,\n        \"min\": 1.0,\n        \"max\": 103050.0,\n        \"num_unique_values\": 8,\n        \"samples\": [\n          86.69338185346919,\n          14.0,\n          103050.0\n        ],\n        \"semantic_type\": \"\",\n        \"description\": \"\"\n      }\n    },\n    {\n      \"column\": \"company\",\n      \"properties\": {\n        \"dtype\": \"number\",\n        \"std\": 2338.9934777107883,\n        \"min\": 6.0,\n        \"max\": 6797.0,\n        \"num_unique_values\": 8,\n        \"samples\": [\n          189.26673532440782,\n          179.0,\n          6797.0\n        ],\n        \"semantic_type\": \"\",\n        \"description\": \"\"\n      }\n    },\n    {\n      \"column\": \"days_in_waiting_list\",\n      \"properties\": {\n        \"dtype\": \"number\",\n        \"std\": 42190.20344235136,\n        \"min\": 0.0,\n        \"max\": 119390.0,\n        \"num_unique_values\": 5,\n        \"samples\": [\n          2.321149174972778,\n          391.0,\n          17.594720878752014\n        ],\n        \"semantic_type\": \"\",\n        \"description\": \"\"\n      }\n    },\n    {\n      \"column\": \"adr\",\n      \"properties\": {\n        \"dtype\": \"number\",\n        \"std\": 41957.436659586354,\n        \"min\": -6.38,\n        \"max\": 119390.0,\n        \"num_unique_values\": 8,\n        \"samples\": [\n          101.83112153446686,\n          94.575,\n          119390.0\n        ],\n        \"semantic_type\": \"\",\n        \"description\": \"\"\n      }\n    },\n    {\n      \"column\": \"required_car_parking_spaces\",\n      \"properties\": {\n        \"dtype\": \"number\",\n        \"std\": 42210.319786938184,\n        \"min\": 0.0,\n        \"max\": 119390.0,\n        \"num_unique_values\": 5,\n        \"samples\": [\n          0.06251779881062065,\n          8.0,\n          0.24529114746719846\n        ],\n        \"semantic_type\": \"\",\n        \"description\": \"\"\n      }\n    },\n    {\n      \"column\": \"total_of_special_requests\",\n      \"properties\": {\n        \"dtype\": \"number\",\n        \"std\": 42210.36738912644,\n        \"min\": 0.0,\n        \"max\": 119390.0,\n        \"num_unique_values\": 6,\n        \"samples\": [\n          119390.0,\n          0.5713627607002262,\n          5.0\n        ],\n        \"semantic_type\": \"\",\n        \"description\": \"\"\n      }\n    }\n  ]\n}"
            }
          },
          "metadata": {},
          "execution_count": 2
        }
      ],
      "source": [
        "import numpy as np\n",
        "import pandas as pd\n",
        "\n",
        "data = pd.read_csv('/content/drive/MyDrive/Colab Notebooks/data/hotel_bookings.csv')\n",
        "data.head()\n",
        "data.info()\n",
        "data.describe()\n"
      ]
    },
    {
      "cell_type": "code",
      "source": [
        "# Encuentra filas duplicadas (considerando todas las columnas)\n",
        "duplicates = data[data.duplicated()]\n",
        "\n",
        "# Muestra las filas duplicadas\n",
        "print(duplicates)\n",
        "\n",
        "# Cuenta el número de filas duplicadas\n",
        "num_duplicates = duplicates.shape[0]\n",
        "print(f\"Número de filas duplicadas: {num_duplicates}\")\n",
        "\n",
        "#Numero significativo de fila duplicadas. Número de filas duplicadas: 31994\n",
        "# Se procede a eliminar\n"
      ],
      "metadata": {
        "colab": {
          "base_uri": "https://localhost:8080/"
        },
        "id": "fxI448Njb9_i",
        "outputId": "40ac4d6b-50da-4deb-a913-056b79f65165"
      },
      "execution_count": 3,
      "outputs": [
        {
          "output_type": "stream",
          "name": "stdout",
          "text": [
            "               hotel  is_canceled  lead_time  arrival_date_year  \\\n",
            "5       Resort Hotel            0         14               2015   \n",
            "22      Resort Hotel            0         72               2015   \n",
            "43      Resort Hotel            0         70               2015   \n",
            "138     Resort Hotel            1          5               2015   \n",
            "200     Resort Hotel            0          0               2015   \n",
            "...              ...          ...        ...                ...   \n",
            "119349    City Hotel            0        186               2017   \n",
            "119352    City Hotel            0         63               2017   \n",
            "119353    City Hotel            0         63               2017   \n",
            "119354    City Hotel            0         63               2017   \n",
            "119373    City Hotel            0        175               2017   \n",
            "\n",
            "       arrival_date_month  arrival_date_week_number  \\\n",
            "5                    July                        27   \n",
            "22                   July                        27   \n",
            "43                   July                        27   \n",
            "138                  July                        28   \n",
            "200                  July                        28   \n",
            "...                   ...                       ...   \n",
            "119349             August                        35   \n",
            "119352             August                        35   \n",
            "119353             August                        35   \n",
            "119354             August                        35   \n",
            "119373             August                        35   \n",
            "\n",
            "        arrival_date_day_of_month  stays_in_weekend_nights  \\\n",
            "5                               1                        0   \n",
            "22                              1                        2   \n",
            "43                              2                        2   \n",
            "138                             5                        1   \n",
            "200                             7                        0   \n",
            "...                           ...                      ...   \n",
            "119349                         31                        0   \n",
            "119352                         31                        0   \n",
            "119353                         31                        0   \n",
            "119354                         31                        0   \n",
            "119373                         31                        1   \n",
            "\n",
            "        stays_in_week_nights  adults  ...  deposit_type  agent company  \\\n",
            "5                          2       2  ...    No Deposit  240.0     NaN   \n",
            "22                         4       2  ...    No Deposit  250.0     NaN   \n",
            "43                         3       2  ...    No Deposit  250.0     NaN   \n",
            "138                        0       2  ...    No Deposit  240.0     NaN   \n",
            "200                        1       1  ...    No Deposit  240.0     NaN   \n",
            "...                      ...     ...  ...           ...    ...     ...   \n",
            "119349                     3       2  ...    No Deposit    9.0     NaN   \n",
            "119352                     3       3  ...    No Deposit    9.0     NaN   \n",
            "119353                     3       3  ...    No Deposit    9.0     NaN   \n",
            "119354                     3       3  ...    No Deposit    9.0     NaN   \n",
            "119373                     3       1  ...    No Deposit   42.0     NaN   \n",
            "\n",
            "       days_in_waiting_list    customer_type     adr  \\\n",
            "5                         0        Transient   98.00   \n",
            "22                        0        Transient   84.67   \n",
            "43                        0        Transient  137.00   \n",
            "138                       0        Transient   97.00   \n",
            "200                       0        Transient  109.80   \n",
            "...                     ...              ...     ...   \n",
            "119349                    0        Transient  126.00   \n",
            "119352                    0  Transient-Party  195.33   \n",
            "119353                    0  Transient-Party  195.33   \n",
            "119354                    0  Transient-Party  195.33   \n",
            "119373                    0        Transient   82.35   \n",
            "\n",
            "        required_car_parking_spaces  total_of_special_requests  \\\n",
            "5                                 0                          1   \n",
            "22                                0                          1   \n",
            "43                                0                          1   \n",
            "138                               0                          0   \n",
            "200                               0                          3   \n",
            "...                             ...                        ...   \n",
            "119349                            0                          2   \n",
            "119352                            0                          2   \n",
            "119353                            0                          2   \n",
            "119354                            0                          2   \n",
            "119373                            0                          1   \n",
            "\n",
            "        reservation_status reservation_status_date  \n",
            "5                Check-Out              2015-07-03  \n",
            "22               Check-Out              2015-07-07  \n",
            "43               Check-Out              2015-07-07  \n",
            "138               Canceled              2015-07-01  \n",
            "200              Check-Out              2015-07-08  \n",
            "...                    ...                     ...  \n",
            "119349           Check-Out              2017-09-03  \n",
            "119352           Check-Out              2017-09-03  \n",
            "119353           Check-Out              2017-09-03  \n",
            "119354           Check-Out              2017-09-03  \n",
            "119373           Check-Out              2017-09-04  \n",
            "\n",
            "[31994 rows x 32 columns]\n",
            "Número de filas duplicadas: 31994\n"
          ]
        }
      ]
    },
    {
      "source": [
        "# elimina los duplicados y crea un nuevo DataFrame data_sin_duplicados\n",
        "data_sin_duplicados = data.drop_duplicates()\n",
        "\n"
      ],
      "cell_type": "code",
      "metadata": {
        "id": "DJHB-05qcvFL"
      },
      "execution_count": 4,
      "outputs": []
    },
    {
      "cell_type": "markdown",
      "source": [
        "Verificación y ajuste de tipos de datos: Asegúrate de que todas las columnas coincidan con los tipos de datos indicados en el diccionario de datos."
      ],
      "metadata": {
        "id": "xQP4wu_2eRZU"
      }
    },
    {
      "cell_type": "code",
      "source": [
        "data_sin_duplicados.shape"
      ],
      "metadata": {
        "colab": {
          "base_uri": "https://localhost:8080/"
        },
        "id": "Cq0vBQAOejrY",
        "outputId": "342a4bbf-c63d-4839-82f4-3599dede63c7"
      },
      "execution_count": 9,
      "outputs": [
        {
          "output_type": "execute_result",
          "data": {
            "text/plain": [
              "(87396, 32)"
            ]
          },
          "metadata": {},
          "execution_count": 9
        }
      ]
    },
    {
      "cell_type": "code",
      "source": [
        "data_sin_duplicados.info()\n"
      ],
      "metadata": {
        "colab": {
          "base_uri": "https://localhost:8080/"
        },
        "id": "D4TcqVGuexiV",
        "outputId": "99d80353-be57-4457-b4ba-b332479fa9c9"
      },
      "execution_count": 10,
      "outputs": [
        {
          "output_type": "stream",
          "name": "stdout",
          "text": [
            "<class 'pandas.core.frame.DataFrame'>\n",
            "Index: 87396 entries, 0 to 119389\n",
            "Data columns (total 32 columns):\n",
            " #   Column                          Non-Null Count  Dtype  \n",
            "---  ------                          --------------  -----  \n",
            " 0   hotel                           87396 non-null  object \n",
            " 1   is_canceled                     87396 non-null  int64  \n",
            " 2   lead_time                       87396 non-null  int64  \n",
            " 3   arrival_date_year               87396 non-null  int64  \n",
            " 4   arrival_date_month              87396 non-null  object \n",
            " 5   arrival_date_week_number        87396 non-null  int64  \n",
            " 6   arrival_date_day_of_month       87396 non-null  int64  \n",
            " 7   stays_in_weekend_nights         87396 non-null  int64  \n",
            " 8   stays_in_week_nights            87396 non-null  int64  \n",
            " 9   adults                          87396 non-null  int64  \n",
            " 10  children                        87392 non-null  float64\n",
            " 11  babies                          87396 non-null  int64  \n",
            " 12  meal                            87396 non-null  object \n",
            " 13  country                         86944 non-null  object \n",
            " 14  market_segment                  87396 non-null  object \n",
            " 15  distribution_channel            87396 non-null  object \n",
            " 16  is_repeated_guest               87396 non-null  int64  \n",
            " 17  previous_cancellations          87396 non-null  int64  \n",
            " 18  previous_bookings_not_canceled  87396 non-null  int64  \n",
            " 19  reserved_room_type              87396 non-null  object \n",
            " 20  assigned_room_type              87396 non-null  object \n",
            " 21  booking_changes                 87396 non-null  int64  \n",
            " 22  deposit_type                    87396 non-null  object \n",
            " 23  agent                           75203 non-null  float64\n",
            " 24  company                         5259 non-null   float64\n",
            " 25  days_in_waiting_list            87396 non-null  int64  \n",
            " 26  customer_type                   87396 non-null  object \n",
            " 27  adr                             87396 non-null  float64\n",
            " 28  required_car_parking_spaces     87396 non-null  int64  \n",
            " 29  total_of_special_requests       87396 non-null  int64  \n",
            " 30  reservation_status              87396 non-null  object \n",
            " 31  reservation_status_date         87396 non-null  object \n",
            "dtypes: float64(4), int64(16), object(12)\n",
            "memory usage: 22.0+ MB\n"
          ]
        }
      ]
    },
    {
      "cell_type": "markdown",
      "source": [
        "Se verficaron todos los tipos de datos y no encontre inconsistencias.\n"
      ],
      "metadata": {
        "id": "tNRNH2vxfcNm"
      }
    },
    {
      "cell_type": "markdown",
      "source": [
        "Consistencia en valores categóricos: Identifica y corrige cualquier inconsistencia en los valores categóricos (por ejemplo, ‘yes’, ‘Yes’, ‘YES’)."
      ],
      "metadata": {
        "id": "SRV_O0Qnfjjg"
      }
    },
    {
      "cell_type": "code",
      "source": [
        "unique_values = data_sin_duplicados['customer_type'].unique()\n",
        "print(unique_values)\n",
        "\n",
        "#busqueda de inconsistencias de datos"
      ],
      "metadata": {
        "colab": {
          "base_uri": "https://localhost:8080/"
        },
        "id": "r274bxn7fnhJ",
        "outputId": "c6218797-b3c8-452f-cb0a-851e085ad574"
      },
      "execution_count": 11,
      "outputs": [
        {
          "output_type": "stream",
          "name": "stdout",
          "text": [
            "['Transient' 'Contract' 'Transient-Party' 'Group']\n"
          ]
        }
      ]
    },
    {
      "cell_type": "code",
      "source": [
        "unique_values = data_sin_duplicados['hotel'].unique()\n",
        "print(unique_values)\n",
        "\n",
        "#busqueda de inconsistencias de datos"
      ],
      "metadata": {
        "colab": {
          "base_uri": "https://localhost:8080/"
        },
        "id": "x7hS7-WNfhjG",
        "outputId": "4a446f2d-0eb5-4f07-ddea-a3ffae6b1772"
      },
      "execution_count": 12,
      "outputs": [
        {
          "output_type": "stream",
          "name": "stdout",
          "text": [
            "['Resort Hotel' 'City Hotel']\n"
          ]
        }
      ]
    },
    {
      "cell_type": "code",
      "source": [
        "unique_values = data_sin_duplicados['country'].unique()\n",
        "print(unique_values)\n",
        "\n",
        "#busqueda de inconsistencias de datos"
      ],
      "metadata": {
        "colab": {
          "base_uri": "https://localhost:8080/"
        },
        "id": "07cFExs4gCL8",
        "outputId": "5757da8a-bcc5-405a-cfa2-c6906be2816d"
      },
      "execution_count": 13,
      "outputs": [
        {
          "output_type": "stream",
          "name": "stdout",
          "text": [
            "['PRT' 'GBR' 'USA' 'ESP' 'IRL' 'FRA' nan 'ROU' 'NOR' 'OMN' 'ARG' 'POL'\n",
            " 'DEU' 'BEL' 'CHE' 'CN' 'GRC' 'ITA' 'NLD' 'DNK' 'RUS' 'SWE' 'AUS' 'EST'\n",
            " 'CZE' 'BRA' 'FIN' 'MOZ' 'BWA' 'LUX' 'SVN' 'ALB' 'IND' 'CHN' 'MEX' 'MAR'\n",
            " 'UKR' 'SMR' 'LVA' 'PRI' 'SRB' 'CHL' 'AUT' 'BLR' 'LTU' 'TUR' 'ZAF' 'AGO'\n",
            " 'ISR' 'CYM' 'ZMB' 'CPV' 'ZWE' 'DZA' 'KOR' 'CRI' 'HUN' 'ARE' 'TUN' 'JAM'\n",
            " 'HRV' 'HKG' 'IRN' 'GEO' 'AND' 'GIB' 'URY' 'JEY' 'CAF' 'CYP' 'COL' 'GGY'\n",
            " 'KWT' 'NGA' 'MDV' 'VEN' 'SVK' 'FJI' 'KAZ' 'PAK' 'IDN' 'LBN' 'PHL' 'SEN'\n",
            " 'SYC' 'AZE' 'BHR' 'NZL' 'THA' 'DOM' 'MKD' 'MYS' 'ARM' 'JPN' 'LKA' 'CUB'\n",
            " 'CMR' 'BIH' 'MUS' 'COM' 'SUR' 'UGA' 'BGR' 'CIV' 'JOR' 'SYR' 'SGP' 'BDI'\n",
            " 'SAU' 'VNM' 'PLW' 'QAT' 'EGY' 'PER' 'MLT' 'MWI' 'ECU' 'MDG' 'ISL' 'UZB'\n",
            " 'NPL' 'BHS' 'MAC' 'TGO' 'TWN' 'DJI' 'STP' 'KNA' 'ETH' 'IRQ' 'HND' 'RWA'\n",
            " 'KHM' 'MCO' 'BGD' 'IMN' 'TJK' 'NIC' 'BEN' 'VGB' 'TZA' 'GAB' 'GHA' 'TMP'\n",
            " 'GLP' 'KEN' 'LIE' 'GNB' 'MNE' 'UMI' 'MYT' 'FRO' 'MMR' 'PAN' 'BFA' 'LBY'\n",
            " 'MLI' 'NAM' 'BOL' 'PRY' 'BRB' 'ABW' 'AIA' 'SLV' 'DMA' 'PYF' 'GUY' 'LCA'\n",
            " 'ATA' 'GTM' 'ASM' 'MRT' 'NCL' 'KIR' 'SDN' 'ATF' 'SLE' 'LAO']\n"
          ]
        }
      ]
    },
    {
      "cell_type": "code",
      "source": [
        "unique_values = data_sin_duplicados['agent'].unique()\n",
        "print(unique_values)\n",
        "\n",
        "#busqueda de inconsistencias de datos"
      ],
      "metadata": {
        "colab": {
          "base_uri": "https://localhost:8080/"
        },
        "id": "4nsEmEUwgNwf",
        "outputId": "0c9b856c-ae6a-451f-b144-b3d2aad809fe"
      },
      "execution_count": 14,
      "outputs": [
        {
          "output_type": "stream",
          "name": "stdout",
          "text": [
            "[ nan 304. 240. 303.  15. 241.   8. 250. 115.   5. 175. 134. 156. 243.\n",
            " 242.   3. 105.  40. 147. 306. 184.  96.   2. 127.  95. 146.   9. 177.\n",
            "   6. 143. 244. 149. 167. 300. 171. 305.  67. 196. 152. 142. 261. 104.\n",
            "  36.  26.  29. 258. 110.  71. 181.  88. 251. 275.  69. 248. 208. 256.\n",
            " 314. 126. 281. 273. 253. 185. 330. 334. 328. 326. 321. 324. 313.  38.\n",
            " 155.  68. 335. 308. 332.  94. 348. 310. 339. 375.  66. 327. 387. 298.\n",
            "  91. 245. 385. 257. 393. 168. 405. 249. 315.  75. 128. 307.  11. 436.\n",
            "   1. 201. 183. 223. 368. 336. 291. 464. 411. 481.  10. 154. 468. 410.\n",
            " 390. 440. 495. 492. 493. 434.  57. 531. 420. 483. 526. 472. 429.  16.\n",
            " 446.  34.  78. 139. 252. 270.  47. 114. 301. 193. 182. 135. 350. 195.\n",
            " 352. 355. 159. 363. 384. 360. 331. 367.  64. 406. 163. 414. 333. 427.\n",
            " 431. 430. 426. 438. 433. 418. 441. 282. 432.  72. 450. 180. 454. 455.\n",
            "  59. 451. 254. 358. 469. 165. 467. 510. 337. 476. 502. 527. 479. 508.\n",
            " 535. 302. 497. 187.  13.   7.  27.  14.  22.  17.  28.  42.  20.  19.\n",
            "  45.  37.  61.  39.  21.  24.  41.  50.  30.  54.  52.  12.  44.  31.\n",
            "  83.  32.  63.  60.  55.  56.  89.  87. 118.  86.  85. 210. 214. 129.\n",
            " 179. 138. 174. 170. 153.  93. 151. 119.  35. 173.  58.  53. 133.  79.\n",
            " 235. 192. 191. 236. 162. 215. 157. 287. 132. 234.  98.  77. 103. 107.\n",
            " 262. 220. 121. 205. 378.  23. 296. 290. 229.  33. 286. 276. 425. 484.\n",
            " 323. 403. 219. 394. 509. 111. 423.   4.  70.  82.  81.  74.  92.  99.\n",
            "  90. 112. 117. 106. 148. 158. 144. 211. 213. 216. 232. 150. 267. 227.\n",
            " 247. 278. 280. 285. 289. 269. 295. 265. 288. 122. 294. 325. 341. 344.\n",
            " 346. 359. 283. 364. 370. 371.  25. 141. 391. 397. 416. 404. 299. 197.\n",
            "  73. 354. 444. 408. 461. 388. 453. 459. 474. 475. 480. 449.]\n"
          ]
        }
      ]
    },
    {
      "cell_type": "markdown",
      "source": [
        "Se detecta un inconsistencia NaN en Agent.\n"
      ],
      "metadata": {
        "id": "cMmrR2Xegd7g"
      }
    },
    {
      "source": [
        "filas_con_nan = data_sin_duplicados[data_sin_duplicados['agent'].isnull()]\n",
        "print(filas_con_nan)"
      ],
      "cell_type": "code",
      "metadata": {
        "colab": {
          "base_uri": "https://localhost:8080/"
        },
        "id": "2EGJpggpg2sP",
        "outputId": "cf48967e-3f2e-4d32-fddc-c1b434159dcc"
      },
      "execution_count": 20,
      "outputs": [
        {
          "output_type": "stream",
          "name": "stdout",
          "text": [
            "               hotel  is_canceled  lead_time  arrival_date_year  \\\n",
            "0       Resort Hotel            0        342               2015   \n",
            "1       Resort Hotel            0        737               2015   \n",
            "2       Resort Hotel            0          7               2015   \n",
            "6       Resort Hotel            0          0               2015   \n",
            "18      Resort Hotel            0          0               2015   \n",
            "...              ...          ...        ...                ...   \n",
            "119124    City Hotel            0          0               2017   \n",
            "119151    City Hotel            0          0               2017   \n",
            "119166    City Hotel            0          0               2017   \n",
            "119215    City Hotel            0          2               2017   \n",
            "119248    City Hotel            0         22               2017   \n",
            "\n",
            "       arrival_date_month  arrival_date_week_number  \\\n",
            "0                    July                        27   \n",
            "1                    July                        27   \n",
            "2                    July                        27   \n",
            "6                    July                        27   \n",
            "18                   July                        27   \n",
            "...                   ...                       ...   \n",
            "119124             August                        35   \n",
            "119151             August                        35   \n",
            "119166             August                        35   \n",
            "119215             August                        35   \n",
            "119248             August                        35   \n",
            "\n",
            "        arrival_date_day_of_month  stays_in_weekend_nights  \\\n",
            "0                               1                        0   \n",
            "1                               1                        0   \n",
            "2                               1                        0   \n",
            "6                               1                        0   \n",
            "18                              1                        0   \n",
            "...                           ...                      ...   \n",
            "119124                         29                        0   \n",
            "119151                         29                        0   \n",
            "119166                         30                        0   \n",
            "119215                         31                        0   \n",
            "119248                         29                        0   \n",
            "\n",
            "        stays_in_week_nights  adults  ...  deposit_type  agent company  \\\n",
            "0                          0       2  ...    No Deposit    NaN     NaN   \n",
            "1                          0       2  ...    No Deposit    NaN     NaN   \n",
            "2                          1       1  ...    No Deposit    NaN     NaN   \n",
            "6                          2       2  ...    No Deposit    NaN     NaN   \n",
            "18                         1       2  ...    No Deposit    NaN   110.0   \n",
            "...                      ...     ...  ...           ...    ...     ...   \n",
            "119124                     1       1  ...    No Deposit    NaN    72.0   \n",
            "119151                     1       2  ...    No Deposit    NaN     NaN   \n",
            "119166                     1       1  ...    No Deposit    NaN     NaN   \n",
            "119215                     1       1  ...    No Deposit    NaN     NaN   \n",
            "119248                     3       1  ...    No Deposit    NaN   485.0   \n",
            "\n",
            "       days_in_waiting_list customer_type     adr  \\\n",
            "0                         0     Transient    0.00   \n",
            "1                         0     Transient    0.00   \n",
            "2                         0     Transient   75.00   \n",
            "6                         0     Transient  107.00   \n",
            "18                        0     Transient  107.42   \n",
            "...                     ...           ...     ...   \n",
            "119124                    0     Transient    0.00   \n",
            "119151                    0     Transient  270.00   \n",
            "119166                    0     Transient  140.00   \n",
            "119215                    0     Transient  140.00   \n",
            "119248                    0     Transient   75.00   \n",
            "\n",
            "        required_car_parking_spaces  total_of_special_requests  \\\n",
            "0                                 0                          0   \n",
            "1                                 0                          0   \n",
            "2                                 0                          0   \n",
            "6                                 0                          0   \n",
            "18                                0                          0   \n",
            "...                             ...                        ...   \n",
            "119124                            0                          2   \n",
            "119151                            0                          0   \n",
            "119166                            0                          0   \n",
            "119215                            0                          2   \n",
            "119248                            0                          4   \n",
            "\n",
            "        reservation_status reservation_status_date  \n",
            "0                Check-Out              2015-07-01  \n",
            "1                Check-Out              2015-07-01  \n",
            "2                Check-Out              2015-07-02  \n",
            "6                Check-Out              2015-07-03  \n",
            "18               Check-Out              2015-07-02  \n",
            "...                    ...                     ...  \n",
            "119124           Check-Out              2017-08-30  \n",
            "119151           Check-Out              2017-08-30  \n",
            "119166           Check-Out              2017-08-31  \n",
            "119215           Check-Out              2017-09-01  \n",
            "119248           Check-Out              2017-09-01  \n",
            "\n",
            "[12193 rows x 32 columns]\n"
          ]
        }
      ]
    },
    {
      "cell_type": "markdown",
      "source": [
        "Supongamos que estos 12.093 registros con Agent igual a Null son clientes sin agentes.  Para no eliminarlos del DataSet\n"
      ],
      "metadata": {
        "id": "iS1CMwnohGDA"
      }
    },
    {
      "cell_type": "markdown",
      "source": [
        "Manejo de valores faltantes: Identifica y maneja cualquier valor faltante en el dataset. Rellena los valores faltantes con un marcador adecuado para el tipo de dato."
      ],
      "metadata": {
        "id": "Nwc7incdhX_Y"
      }
    },
    {
      "cell_type": "code",
      "source": [],
      "metadata": {
        "id": "lBvvlA0WgryQ"
      },
      "execution_count": null,
      "outputs": []
    },
    {
      "source": [
        "data_sin_duplicados.isnull().sum()\n",
        "print(data_sin_duplicados.isnull().sum())"
      ],
      "cell_type": "code",
      "metadata": {
        "colab": {
          "base_uri": "https://localhost:8080/"
        },
        "id": "aJTY2Zf4hcOq",
        "outputId": "4e629f58-6989-4abd-91b9-67273494e3d0"
      },
      "execution_count": 21,
      "outputs": [
        {
          "output_type": "stream",
          "name": "stdout",
          "text": [
            "hotel                                 0\n",
            "is_canceled                           0\n",
            "lead_time                             0\n",
            "arrival_date_year                     0\n",
            "arrival_date_month                    0\n",
            "arrival_date_week_number              0\n",
            "arrival_date_day_of_month             0\n",
            "stays_in_weekend_nights               0\n",
            "stays_in_week_nights                  0\n",
            "adults                                0\n",
            "children                              4\n",
            "babies                                0\n",
            "meal                                  0\n",
            "country                             452\n",
            "market_segment                        0\n",
            "distribution_channel                  0\n",
            "is_repeated_guest                     0\n",
            "previous_cancellations                0\n",
            "previous_bookings_not_canceled        0\n",
            "reserved_room_type                    0\n",
            "assigned_room_type                    0\n",
            "booking_changes                       0\n",
            "deposit_type                          0\n",
            "agent                             12193\n",
            "company                           82137\n",
            "days_in_waiting_list                  0\n",
            "customer_type                         0\n",
            "adr                                   0\n",
            "required_car_parking_spaces           0\n",
            "total_of_special_requests             0\n",
            "reservation_status                    0\n",
            "reservation_status_date               0\n",
            "dtype: int64\n"
          ]
        }
      ]
    },
    {
      "source": [
        "# se procedio a llenado las columans nulas\n",
        "data['country'].fillna('Desconocido', inplace=True)  # Usando \"Desconocido\""
      ],
      "cell_type": "code",
      "metadata": {
        "id": "iYSg8LzXiEuY"
      },
      "execution_count": 23,
      "outputs": []
    },
    {
      "cell_type": "code",
      "source": [
        "print(data_sin_duplicados.isnull().sum())"
      ],
      "metadata": {
        "colab": {
          "base_uri": "https://localhost:8080/"
        },
        "id": "Vb-eNFL3gm-Z",
        "outputId": "84462039-cca5-464d-da0a-e17afabe0b29"
      },
      "execution_count": 24,
      "outputs": [
        {
          "output_type": "stream",
          "name": "stdout",
          "text": [
            "hotel                                 0\n",
            "is_canceled                           0\n",
            "lead_time                             0\n",
            "arrival_date_year                     0\n",
            "arrival_date_month                    0\n",
            "arrival_date_week_number              0\n",
            "arrival_date_day_of_month             0\n",
            "stays_in_weekend_nights               0\n",
            "stays_in_week_nights                  0\n",
            "adults                                0\n",
            "children                              4\n",
            "babies                                0\n",
            "meal                                  0\n",
            "country                               0\n",
            "market_segment                        0\n",
            "distribution_channel                  0\n",
            "is_repeated_guest                     0\n",
            "previous_cancellations                0\n",
            "previous_bookings_not_canceled        0\n",
            "reserved_room_type                    0\n",
            "assigned_room_type                    0\n",
            "booking_changes                       0\n",
            "deposit_type                          0\n",
            "agent                             12193\n",
            "company                           82137\n",
            "days_in_waiting_list                  0\n",
            "customer_type                         0\n",
            "adr                                   0\n",
            "required_car_parking_spaces           0\n",
            "total_of_special_requests             0\n",
            "reservation_status                    0\n",
            "reservation_status_date               0\n",
            "dtype: int64\n"
          ]
        }
      ]
    },
    {
      "cell_type": "code",
      "source": [
        "# se procedio a llenado las columans nulas\n",
        "data['agent'].fillna('999', inplace=True)  # Usando \"999\"\n",
        "print (data.isnull().sum())"
      ],
      "metadata": {
        "colab": {
          "base_uri": "https://localhost:8080/"
        },
        "id": "-5xi8PCSjXF_",
        "outputId": "66a021cb-788a-4b36-fc12-320b6decf892"
      },
      "execution_count": 26,
      "outputs": [
        {
          "output_type": "stream",
          "name": "stdout",
          "text": [
            "hotel                                  0\n",
            "is_canceled                            0\n",
            "lead_time                              0\n",
            "arrival_date_year                      0\n",
            "arrival_date_month                     0\n",
            "arrival_date_week_number               0\n",
            "arrival_date_day_of_month              0\n",
            "stays_in_weekend_nights                0\n",
            "stays_in_week_nights                   0\n",
            "adults                                 0\n",
            "children                               4\n",
            "babies                                 0\n",
            "meal                                   0\n",
            "country                                0\n",
            "market_segment                         0\n",
            "distribution_channel                   0\n",
            "is_repeated_guest                      0\n",
            "previous_cancellations                 0\n",
            "previous_bookings_not_canceled         0\n",
            "reserved_room_type                     0\n",
            "assigned_room_type                     0\n",
            "booking_changes                        0\n",
            "deposit_type                           0\n",
            "agent                                  0\n",
            "company                           112593\n",
            "days_in_waiting_list                   0\n",
            "customer_type                          0\n",
            "adr                                    0\n",
            "required_car_parking_spaces            0\n",
            "total_of_special_requests              0\n",
            "reservation_status                     0\n",
            "reservation_status_date                0\n",
            "dtype: int64\n"
          ]
        }
      ]
    },
    {
      "cell_type": "code",
      "source": [
        "# se procedio a llenado las columans nulas\n",
        "data['company'].fillna('888.0', inplace=True)  # Usando \"999\"\n",
        "print (data.isnull().sum())"
      ],
      "metadata": {
        "colab": {
          "base_uri": "https://localhost:8080/"
        },
        "id": "E6Vv0u7BkPVc",
        "outputId": "44841b12-8f02-4711-dbf9-219116b37c3b"
      },
      "execution_count": 27,
      "outputs": [
        {
          "output_type": "stream",
          "name": "stdout",
          "text": [
            "hotel                             0\n",
            "is_canceled                       0\n",
            "lead_time                         0\n",
            "arrival_date_year                 0\n",
            "arrival_date_month                0\n",
            "arrival_date_week_number          0\n",
            "arrival_date_day_of_month         0\n",
            "stays_in_weekend_nights           0\n",
            "stays_in_week_nights              0\n",
            "adults                            0\n",
            "children                          4\n",
            "babies                            0\n",
            "meal                              0\n",
            "country                           0\n",
            "market_segment                    0\n",
            "distribution_channel              0\n",
            "is_repeated_guest                 0\n",
            "previous_cancellations            0\n",
            "previous_bookings_not_canceled    0\n",
            "reserved_room_type                0\n",
            "assigned_room_type                0\n",
            "booking_changes                   0\n",
            "deposit_type                      0\n",
            "agent                             0\n",
            "company                           0\n",
            "days_in_waiting_list              0\n",
            "customer_type                     0\n",
            "adr                               0\n",
            "required_car_parking_spaces       0\n",
            "total_of_special_requests         0\n",
            "reservation_status                0\n",
            "reservation_status_date           0\n",
            "dtype: int64\n"
          ]
        },
        {
          "output_type": "stream",
          "name": "stderr",
          "text": [
            "<ipython-input-27-14967495e045>:1: FutureWarning: A value is trying to be set on a copy of a DataFrame or Series through chained assignment using an inplace method.\n",
            "The behavior will change in pandas 3.0. This inplace method will never work because the intermediate object on which we are setting values always behaves as a copy.\n",
            "\n",
            "For example, when doing 'df[col].method(value, inplace=True)', try using 'df.method({col: value}, inplace=True)' or df[col] = df[col].method(value) instead, to perform the operation inplace on the original object.\n",
            "\n",
            "\n",
            "  data['company'].fillna('888.0', inplace=True)  # Usando \"999\"\n",
            "<ipython-input-27-14967495e045>:1: FutureWarning: Setting an item of incompatible dtype is deprecated and will raise an error in a future version of pandas. Value '888.0' has dtype incompatible with float64, please explicitly cast to a compatible dtype first.\n",
            "  data['company'].fillna('888.0', inplace=True)  # Usando \"999\"\n"
          ]
        }
      ]
    },
    {
      "cell_type": "markdown",
      "source": [
        "Detección de datos anómalos: Identifica y corrige cualquier punto de dato inapropiado o inusual (por ejemplo, una estancia de 1000 noches)."
      ],
      "metadata": {
        "id": "w1_4SbuIko7y"
      }
    },
    {
      "cell_type": "code",
      "source": [
        "# Valores faltantes en cada columna\n",
        "missing_values = data.isnull().sum()\n",
        "print(missing_values)\n",
        "\n",
        "# Mostrar las filas con valores faltantes\n",
        "rows_with_missing = data[data.isnull().any(axis=1)]\n",
        "print(rows_with_missing)"
      ],
      "metadata": {
        "colab": {
          "base_uri": "https://localhost:8080/"
        },
        "id": "S3Pm0ufpkuO9",
        "outputId": "f4f565d5-5f94-4afb-be52-fcd60aa875ec"
      },
      "execution_count": 28,
      "outputs": [
        {
          "output_type": "stream",
          "name": "stdout",
          "text": [
            "hotel                             0\n",
            "is_canceled                       0\n",
            "lead_time                         0\n",
            "arrival_date_year                 0\n",
            "arrival_date_month                0\n",
            "arrival_date_week_number          0\n",
            "arrival_date_day_of_month         0\n",
            "stays_in_weekend_nights           0\n",
            "stays_in_week_nights              0\n",
            "adults                            0\n",
            "children                          4\n",
            "babies                            0\n",
            "meal                              0\n",
            "country                           0\n",
            "market_segment                    0\n",
            "distribution_channel              0\n",
            "is_repeated_guest                 0\n",
            "previous_cancellations            0\n",
            "previous_bookings_not_canceled    0\n",
            "reserved_room_type                0\n",
            "assigned_room_type                0\n",
            "booking_changes                   0\n",
            "deposit_type                      0\n",
            "agent                             0\n",
            "company                           0\n",
            "days_in_waiting_list              0\n",
            "customer_type                     0\n",
            "adr                               0\n",
            "required_car_parking_spaces       0\n",
            "total_of_special_requests         0\n",
            "reservation_status                0\n",
            "reservation_status_date           0\n",
            "dtype: int64\n",
            "            hotel  is_canceled  lead_time  arrival_date_year  \\\n",
            "40600  City Hotel            1          2               2015   \n",
            "40667  City Hotel            1          1               2015   \n",
            "40679  City Hotel            1          1               2015   \n",
            "41160  City Hotel            1          8               2015   \n",
            "\n",
            "      arrival_date_month  arrival_date_week_number  arrival_date_day_of_month  \\\n",
            "40600             August                        32                          3   \n",
            "40667             August                        32                          5   \n",
            "40679             August                        32                          5   \n",
            "41160             August                        33                         13   \n",
            "\n",
            "       stays_in_weekend_nights  stays_in_week_nights  adults  ...  \\\n",
            "40600                        1                     0       2  ...   \n",
            "40667                        0                     2       2  ...   \n",
            "40679                        0                     2       3  ...   \n",
            "41160                        2                     5       2  ...   \n",
            "\n",
            "       deposit_type  agent company days_in_waiting_list    customer_type  \\\n",
            "40600    No Deposit    999   888.0                    0  Transient-Party   \n",
            "40667    No Deposit   14.0   888.0                    0  Transient-Party   \n",
            "40679    No Deposit    999   888.0                    0  Transient-Party   \n",
            "41160    No Deposit    9.0   888.0                    0  Transient-Party   \n",
            "\n",
            "        adr  required_car_parking_spaces  total_of_special_requests  \\\n",
            "40600  12.0                            0                          1   \n",
            "40667  12.0                            0                          1   \n",
            "40679  18.0                            0                          2   \n",
            "41160  76.5                            0                          1   \n",
            "\n",
            "       reservation_status reservation_status_date  \n",
            "40600            Canceled              2015-08-01  \n",
            "40667            Canceled              2015-08-04  \n",
            "40679            Canceled              2015-08-04  \n",
            "41160            Canceled              2015-08-09  \n",
            "\n",
            "[4 rows x 32 columns]\n"
          ]
        }
      ]
    },
    {
      "cell_type": "markdown",
      "source": [],
      "metadata": {
        "id": "ujB8KXIZkZ2w"
      }
    },
    {
      "cell_type": "markdown",
      "source": [
        "Sin valores faltantes. Todo ok"
      ],
      "metadata": {
        "id": "KFmWFoXgk3el"
      }
    },
    {
      "cell_type": "markdown",
      "source": [
        "Exploración de datos con Python:\n",
        "Visualizaciones exploratorias univariadas:\n",
        "- Crea dos tipos diferentes de visualizaciones univariadas. Cada visualización debe incluir una breve interpretación dentro del archivo de código."
      ],
      "metadata": {
        "id": "QMJcO_uUk6ql"
      }
    },
    {
      "cell_type": "markdown",
      "source": [
        "1. Histograma para la distribución de la variable 'lead_time':"
      ],
      "metadata": {
        "id": "s7Jz1-hdlFMm"
      }
    },
    {
      "source": [
        "import matplotlib.pyplot as plt\n",
        "import seaborn as sns\n",
        "\n",
        "# Histograma para 'lead_time'\n",
        "plt.figure(figsize=(10, 6))\n",
        "sns.histplot(data['lead_time'], bins=30)\n",
        "plt.title('Distribución del tiempo de espera (lead_time)')\n",
        "plt.xlabel('Tiempo de espera (días)')\n",
        "plt.ylabel('Frecuencia')\n",
        "plt.show()\n",
        "\n",
        "# Interpretación:\n",
        "# El histograma muestra que la mayoría de las reservas se realizan con un\n",
        "# tiempo de espera relativamente corto, # con una concentración en los valores\n",
        "# menores a 100 días.\n",
        "# También se observa una cola larga hacia la derecha, lo que indica la presencia de algunas reservas realizadas\n",
        "# con mucha anticipación."
      ],
      "cell_type": "code",
      "metadata": {
        "colab": {
          "base_uri": "https://localhost:8080/",
          "height": 413
        },
        "id": "QasiVmqElJ2B",
        "outputId": "224b9b45-0dbf-4163-ac8f-b23fbc086971"
      },
      "execution_count": 29,
      "outputs": [
        {
          "output_type": "display_data",
          "data": {
            "text/plain": [
              "<Figure size 1000x600 with 1 Axes>"
            ],
            "image/png": "[encoded data removed]"
          },
          "metadata": {}
        }
      ]
    },
    {
      "cell_type": "markdown",
      "source": [
        "2. Gráfico de barras para la variable 'hotel':"
      ],
      "metadata": {
        "id": "dfUpbzcIlXcW"
      }
    },
    {
      "source": [
        "# Gráfico de barras para 'hotel'\n",
        "plt.figure(figsize=(8, 6))\n",
        "sns.countplot(x='hotel', data=data)\n",
        "plt.title('Tipo de hotel')\n",
        "plt.xlabel('Hotel')\n",
        "plt.ylabel('Número de reservas')\n",
        "plt.show()\n",
        "\n",
        "# Interpretación:\n",
        "# El gráfico de barras muestra que el hotel 'City Hotel' tiene un mayor número de\n",
        "#  reservas en comparación con el\n",
        "# 'Resort Hotel'. Esto indica una mayor demanda o popularidad del hotel de ciudad."
      ],
      "cell_type": "code",
      "metadata": {
        "colab": {
          "base_uri": "https://localhost:8080/",
          "height": 499
        },
        "id": "NdiM7DZ-lca6",
        "outputId": "f132ba7b-f45d-416a-bbac-d473c153a1d0"
      },
      "execution_count": 30,
      "outputs": [
        {
          "output_type": "display_data",
          "data": {
            "text/plain": [
              "<Figure size 800x600 with 1 Axes>"
            ],
            "image/png": "[encoded data removed]"
          },
          "metadata": {}
        }
      ]
    },
    {
      "cell_type": "markdown",
      "source": [
        "Conclusiones.\n",
        "\n",
        "Histograma:\n",
        "- Muestra la distribución de una variable numérica continua, como 'lead_time', dividiendo los datos en intervalos (bins) y mostrando la frecuencia de observaciones en cada intervalo.\n",
        "Gráfico de barras:\n",
        "- Muestra la frecuencia de cada categoría en una variable categórica, como 'hotel', utilizando barras de diferentes alturas.\n",
        "\n"
      ],
      "metadata": {
        "id": "DpOyam_tll6o"
      }
    },
    {
      "cell_type": "markdown",
      "source": [
        "Visualizaciones exploratorias multivariadas:\n",
        "- Crea dos tipos diferentes de visualizaciones multivariadas. Cada visualización debe incluir una breve interpretación dentro del archivo de código."
      ],
      "metadata": {
        "id": "XPun0IxTlx9r"
      }
    },
    {
      "cell_type": "markdown",
      "source": [
        "1. Diagrama de dispersión para 'lead_time' vs 'adr' (precio promedio diario), con diferenciación por 'hotel':"
      ],
      "metadata": {
        "id": "s_fZRxx_l9zk"
      }
    },
    {
      "source": [
        "import matplotlib.pyplot as plt\n",
        "import seaborn as sns\n",
        "\n",
        "# Diagrama de dispersión para 'lead_time' vs 'adr', con diferenciación por 'hotel'\n",
        "plt.figure(figsize=(10, 6))\n",
        "sns.scatterplot(x='lead_time', y='adr', hue='hotel', data=data)\n",
        "plt.title('Relación entre tiempo de espera, precio promedio diario y tipo de hotel')\n",
        "plt.xlabel('Tiempo de espera (días)')\n",
        "plt.ylabel('Precio promedio diario (adr)')\n",
        "plt.show()\n",
        "\n",
        "# Interpretación:\n",
        "# El diagrama de dispersión muestra la relación entre el tiempo de espera y el precio promedio diario,\n",
        "# diferenciando por tipo de hotel. Se observa que para ambos tipos de hotel, no hay una clara correlación\n",
        "# entre estas dos variables. Sin embargo, se puede apreciar que el 'Resort Hotel' tiende a tener precios\n",
        "# promedio diarios más altos en general, y que las reservas con mayor tiempo de espera en el 'City Hotel'\n",
        "# pueden tener precios promedio diarios más variables."
      ],
      "cell_type": "code",
      "metadata": {
        "colab": {
          "base_uri": "https://localhost:8080/",
          "height": 418
        },
        "id": "OoUDRHZxmCuw",
        "outputId": "b81f71ba-54d2-426b-b08e-fa94c0f1ccc8"
      },
      "execution_count": 31,
      "outputs": [
        {
          "output_type": "display_data",
          "data": {
            "text/plain": [
              "<Figure size 1000x600 with 1 Axes>"
            ],
            "image/png": "[encoded data removed]"
          },
          "metadata": {}
        }
      ]
    },
    {
      "cell_type": "markdown",
      "source": [
        "2. Gráfico de caja para 'adr' (precio promedio diario) por 'arrival_date_month', con diferenciación por 'hotel':"
      ],
      "metadata": {
        "id": "Vthj3r_BmI5s"
      }
    },
    {
      "cell_type": "code",
      "source": [],
      "metadata": {
        "id": "PYnSu8rLmNb6"
      },
      "execution_count": null,
      "outputs": []
    },
    {
      "source": [
        "# Gráfico de caja para 'adr' por 'arrival_date_month', con diferenciación por 'hotel'\n",
        "plt.figure(figsize=(12, 8))\n",
        "sns.boxplot(x='arrival_date_month', y='adr', hue='hotel', data=data, order=['January', 'February', 'March', 'April', 'May', 'June', 'July', 'August', 'September', 'October', 'November', 'December'])\n",
        "plt.title('Distribución del precio promedio diario por mes de llegada y tipo de hotel')\n",
        "plt.xlabel('Mes de llegada')\n",
        "plt.ylabel('Precio promedio diario (adr)')\n",
        "plt.xticks(rotation=45)\n",
        "plt.show()\n",
        "\n",
        "# Interpretación:\n",
        "# El gráfico de caja muestra la distribución del precio promedio diario por mes de llegada,\n",
        "# diferenciando por tipo de hotel. Se observa que el 'Resort Hotel' tiende a tener precios promedio diarios\n",
        "# más altos en los meses de verano (julio y agosto), mientras que el 'City Hotel' tiene precios más altos\n",
        "# en los meses de primavera y otoño. También se puede apreciar la variabilidad en los precios promedio diarios\n",
        "# para cada mes y tipo de hotel."
      ],
      "cell_type": "code",
      "metadata": {
        "colab": {
          "base_uri": "https://localhost:8080/",
          "height": 483
        },
        "id": "837rta0qmOAe",
        "outputId": "f3ef5a22-c66e-4e29-ec69-33bdc7295cad"
      },
      "execution_count": 32,
      "outputs": [
        {
          "output_type": "display_data",
          "data": {
            "text/plain": [
              "<Figure size 1200x800 with 1 Axes>"
            ],
            "image/png": "[encoded data removed]"
          },
          "metadata": {}
        }
      ]
    },
    {
      "cell_type": "markdown",
      "source": [
        "Análisis adicional:\n",
        "Estadísticas descriptivas: Proporciona un resumen estadístico del dataset, incluyendo medidas de tendencia central y dispersión para las variables numéricas."
      ],
      "metadata": {
        "id": "1KjakePMmduE"
      }
    },
    {
      "source": [
        "import pandas as pd\n",
        "\n",
        "# Resumen estadístico\n",
        "resumen_estadistico = data.describe()\n",
        "\n",
        "# Imprimir el resumen\n",
        "print(resumen_estadistico)\n",
        "\n",
        "\"\"\"\n",
        "Interpretacion\n",
        "Medidas de tendencia central:\n",
        "\n",
        "lead_time (mean = 104.01): En promedio, las reservas se realizan con 104 días de anticipación.\n",
        "stays_in_weekend_nights (mean = 0.93): Los huéspedes se quedan en promedio menos de una noche de fin de semana.\n",
        "stays_in_week_nights (mean = 2.50): Los huéspedes se quedan en promedio 2.5 noches entre semana.\n",
        "adults (mean = 1.86): Las reservas suelen ser para 1 o 2 adultos.\n",
        "children (mean = 0.10): Hay pocos niños por reserva en promedio.\n",
        "babies (mean = 0.01): Hay muy pocos bebés por reserva en promedio.\n",
        "adr (mean = 101.83): El precio promedio diario es de 101.83.\n",
        "previous_cancellations (mean = 0.09): Las cancelaciones previas son poco frecuentes.\n",
        "previous_bookings_not_canceled (mean = 0.14): Los huéspedes repiten su estancia en el hotel con poca frecuencia.\n",
        "booking_changes (mean = 0.22): Se realizan pocos cambios en las reservas en promedio.\n",
        "days_in_waiting_list (mean = 2.32): Las reservas suelen confirmarse rápidamente, con pocos días en lista de espera.\n",
        "required_car_parking_spaces (mean = 0.06): Pocos huéspedes requieren plazas de aparcamiento.\n",
        "total_of_special_requests (mean = 0.57): Los huéspedes suelen realizar menos de una petición especial por reserva.\n",
        "Medidas de dispersión:\n",
        "\n",
        "lead_time (std = 106.86): Hay una gran variabilidad en el tiempo de anticipación con el que se realizan las reservas. Algunas reservas se realizan con mucha anticipación, mientras que otras se hacen con poca.\n",
        "adr (std = 50.54): El precio promedio diario varía considerablemente, lo que sugiere diferentes tipos de habitaciones o tarifas.\n",
        "stays_in_weekend_nights (std = 0.99), stays_in_week_nights (std = 1.91): La duración de la estancia también varía, con algunas estancias cortas y otras más largas.\n",
        "Interpretación general:\n",
        "\n",
        "El hotel recibe reservas con una amplia variedad de tiempos de anticipación, precios y duraciones de estancia.\n",
        "Las reservas suelen ser para 1 o 2 adultos, con pocos niños o bebés.\n",
        "Las cancelaciones y los cambios en las reservas son poco frecuentes.\n",
        "Los huéspedes repiten su estancia en el hotel con poca frecuencia.\n",
        "La mayoría de las reservas se confirman rápidamente, con pocos días en lista de espera.\n",
        "Pocos huéspedes requieren plazas de aparcamiento o realizan peticiones especiales.\n",
        "\"\"\"\n"
      ],
      "cell_type": "code",
      "metadata": {
        "colab": {
          "base_uri": "https://localhost:8080/"
        },
        "id": "I3qMvxEMmi76",
        "outputId": "8f6195c2-b28e-46bc-b587-d1287f611c73"
      },
      "execution_count": 33,
      "outputs": [
        {
          "output_type": "stream",
          "name": "stdout",
          "text": [
            "         is_canceled      lead_time  arrival_date_year  \\\n",
            "count  119390.000000  119390.000000      119390.000000   \n",
            "mean        0.370416     104.011416        2016.156554   \n",
            "std         0.482918     106.863097           0.707476   \n",
            "min         0.000000       0.000000        2015.000000   \n",
            "25%         0.000000      18.000000        2016.000000   \n",
            "50%         0.000000      69.000000        2016.000000   \n",
            "75%         1.000000     160.000000        2017.000000   \n",
            "max         1.000000     737.000000        2017.000000   \n",
            "\n",
            "       arrival_date_week_number  arrival_date_day_of_month  \\\n",
            "count             119390.000000              119390.000000   \n",
            "mean                  27.165173                  15.798241   \n",
            "std                   13.605138                   8.780829   \n",
            "min                    1.000000                   1.000000   \n",
            "25%                   16.000000                   8.000000   \n",
            "50%                   28.000000                  16.000000   \n",
            "75%                   38.000000                  23.000000   \n",
            "max                   53.000000                  31.000000   \n",
            "\n",
            "       stays_in_weekend_nights  stays_in_week_nights         adults  \\\n",
            "count            119390.000000         119390.000000  119390.000000   \n",
            "mean                  0.927599              2.500302       1.856403   \n",
            "std                   0.998613              1.908286       0.579261   \n",
            "min                   0.000000              0.000000       0.000000   \n",
            "25%                   0.000000              1.000000       2.000000   \n",
            "50%                   1.000000              2.000000       2.000000   \n",
            "75%                   2.000000              3.000000       2.000000   \n",
            "max                  19.000000             50.000000      55.000000   \n",
            "\n",
            "            children         babies  is_repeated_guest  \\\n",
            "count  119386.000000  119390.000000      119390.000000   \n",
            "mean        0.103890       0.007949           0.031912   \n",
            "std         0.398561       0.097436           0.175767   \n",
            "min         0.000000       0.000000           0.000000   \n",
            "25%         0.000000       0.000000           0.000000   \n",
            "50%         0.000000       0.000000           0.000000   \n",
            "75%         0.000000       0.000000           0.000000   \n",
            "max        10.000000      10.000000           1.000000   \n",
            "\n",
            "       previous_cancellations  previous_bookings_not_canceled  \\\n",
            "count           119390.000000                   119390.000000   \n",
            "mean                 0.087118                        0.137097   \n",
            "std                  0.844336                        1.497437   \n",
            "min                  0.000000                        0.000000   \n",
            "25%                  0.000000                        0.000000   \n",
            "50%                  0.000000                        0.000000   \n",
            "75%                  0.000000                        0.000000   \n",
            "max                 26.000000                       72.000000   \n",
            "\n",
            "       booking_changes  days_in_waiting_list            adr  \\\n",
            "count    119390.000000         119390.000000  119390.000000   \n",
            "mean          0.221124              2.321149     101.831122   \n",
            "std           0.652306             17.594721      50.535790   \n",
            "min           0.000000              0.000000      -6.380000   \n",
            "25%           0.000000              0.000000      69.290000   \n",
            "50%           0.000000              0.000000      94.575000   \n",
            "75%           0.000000              0.000000     126.000000   \n",
            "max          21.000000            391.000000    5400.000000   \n",
            "\n",
            "       required_car_parking_spaces  total_of_special_requests  \n",
            "count                119390.000000              119390.000000  \n",
            "mean                      0.062518                   0.571363  \n",
            "std                       0.245291                   0.792798  \n",
            "min                       0.000000                   0.000000  \n",
            "25%                       0.000000                   0.000000  \n",
            "50%                       0.000000                   0.000000  \n",
            "75%                       0.000000                   1.000000  \n",
            "max                       8.000000                   5.000000  \n"
          ]
        }
      ]
    },
    {
      "cell_type": "markdown",
      "source": [
        "Identificación de tendencias: Analiza y discute cualquier tendencia notable que observes en los datos, apoyándote en las visualizaciones y estadísticas descriptivas."
      ],
      "metadata": {
        "id": "tyk9pnadnjhc"
      }
    },
    {
      "cell_type": "markdown",
      "source": [
        "A continuacion, algunas tendencias notables observadas en los datos, basándome en las visualizaciones y estadísticas descriptivas que hemos generado:\n",
        "\n",
        "Tendencias notables:\n",
        "\n",
        "- Tiempo de espera y precio: Aunque el diagrama de dispersión no muestra una correlación lineal fuerte entre el tiempo de espera (lead_time) y el precio promedio diario (adr), se puede observar una ligera tendencia a que las reservas con mayor tiempo de espera tengan un adr más variable, especialmente en el caso del City Hotel. Esto podría indicar que las reservas realizadas con mucha anticipación son más propensas a tener precios especiales o descuentos.\n",
        "- Tipo de hotel y precio: El gráfico de caja muestra que el Resort Hotel tiende a tener precios promedio diarios (adr) más altos que el City Hotel en la mayoría de los meses. Esto es esperable, ya que los Resort Hotel suelen ofrecer más servicios e instalaciones, lo que se refleja en un precio más alto. Además, el Resort Hotel tiene precios más altos en los meses de verano (julio y agosto), mientras que el City Hotel tiene precios más altos en los meses de primavera y otoño. Esto podría deberse a la estacionalidad de la demanda en cada tipo de hotel.\n",
        "- Duración de la estancia: Las estadísticas descriptivas muestran que los huéspedes se quedan en promedio menos de una noche de fin de semana (stays_in_weekend_nights) y 2.5 noches entre semana (stays_in_week_nights). Esto sugiere que el hotel recibe principalmente reservas para estancias cortas, posiblemente de viajeros de negocios o turistas que hacen una parada rápida en la ciudad.\n",
        "Cancelaciones y cambios: Las estadísticas descriptivas muestran que las cancelaciones previas (previous_cancellations) y los cambios en las reservas (booking_changes) son poco frecuentes. Esto indica que la mayoría de las reservas se mantienen según lo planeado, lo que es positivo para el hotel.\n",
        "- Huéspedes repetidos: Las estadísticas descriptivas muestran que los huéspedes repiten su estancia en el hotel con poca frecuencia (is_repeated_guest y previous_bookings_not_canceled). Esto podría indicar una oportunidad para el hotel de implementar estrategias para fidelizar a sus clientes y aumentar la tasa de repetición."
      ],
      "metadata": {
        "id": "m0rBRdV3n_RP"
      }
    },
    {
      "cell_type": "markdown",
      "source": [
        "Gracias. Raul D. Caceres P"
      ],
      "metadata": {
        "id": "pLbSnai2oK0J"
      }
    }
  ]
}